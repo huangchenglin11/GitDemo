{
 "cells": [
  {
   "cell_type": "code",
   "execution_count": 12,
   "id": "d2b1a5fa",
   "metadata": {},
   "outputs": [
    {
     "name": "stdout",
     "output_type": "stream",
     "text": [
      "Full Mode: 我/ 来到/ 北京/ 清华/ 清华大学/ 华大/ 大学\n",
      "Default Mode: 我/ 来到/ 北京/ 清华大学\n",
      "小明, 硕士, 毕业, 于, 中国, 科学, 学院, 科学院, 中国科学院, 计算, 计算所, ，, 后, 在, 日本, 京都, 大学, 日本京都大学, 深造\n"
     ]
    }
   ],
   "source": [
    "###\n",
    "import jieba  \n",
    "seg_list = jieba.cut(\"我来到北京清华大学\", cut_all=True)  \n",
    "print(\"Full Mode: \" + \"/ \".join(seg_list))   \n",
    "\n",
    "###   \n",
    "seg_list = jieba.cut(\"我来到北京清华大学\", cut_all=False)  \n",
    "print(\"Default Mode: \" + \"/ \".join(seg_list))  \n",
    "\n",
    "###\n",
    "seg_list = jieba.cut_for_search(\"小明硕士毕业于中国科学院计算所，后在日本京都大学深造\")    \n",
    "print(\", \".join(seg_list)) \n",
    "\n",
    "\n",
    "    "
   ]
  },
  {
   "cell_type": "code",
   "execution_count": 13,
   "id": "6cfefe2a",
   "metadata": {},
   "outputs": [
    {
     "name": "stdout",
     "output_type": "stream",
     "text": [
      "黄城林/ 即将/ 是/ 自然语言/ 处理/ 方面/ 的/ 高手/ 。\n"
     ]
    }
   ],
   "source": [
    "###\n",
    "import jieba\n",
    "\n",
    "user_dict_content = \"黄城林\\n\"\n",
    "with open('userdict.txt', 'w', encoding='utf-8') as f:\n",
    "    f.write(user_dict_content)\n",
    "\n",
    "\n",
    "jieba.load_userdict('userdict.txt')\n",
    "\n",
    "test_sentence = \"黄城林即将是自然语言处理方面的高手。\"\n",
    "seg_list = jieba.cut(test_sentence, HMM=False)\n",
    "print(\"/ \".join(seg_list))"
   ]
  },
  {
   "cell_type": "code",
   "execution_count": 15,
   "id": "1b3a0b13",
   "metadata": {},
   "outputs": [
    {
     "name": "stdout",
     "output_type": "stream",
     "text": [
      "top-关键词为: ['重点', '大学', '国家', '河北省', '共建']\n"
     ]
    }
   ],
   "source": [
    "import jieba.analyse\n",
    "\n",
    "sentence = \"燕山大学是河北省人民政府、教育部、工业和信息化部、国家国防科技工业局四方共建的全国重点大学，河北省重点支持的国家一流大学和世界一流学科建设高校，北京高科大学联盟成员。\"\n",
    "keywords = jieba.analyse.textrank(sentence, topK=5, withWeight=False)\n",
    "\n",
    "print(\"top-关键词为:\", keywords)\n",
    "    "
   ]
  },
  {
   "cell_type": "code",
   "execution_count": null,
   "id": "823f4cb9",
   "metadata": {},
   "outputs": [],
   "source": []
  },
  {
   "cell_type": "code",
   "execution_count": null,
   "id": "b2b727d4",
   "metadata": {},
   "outputs": [],
   "source": []
  }
 ],
 "metadata": {
  "kernelspec": {
   "display_name": "Python 3 (ipykernel)",
   "language": "python",
   "name": "python3"
  },
  "language_info": {
   "codemirror_mode": {
    "name": "ipython",
    "version": 3
   },
   "file_extension": ".py",
   "mimetype": "text/x-python",
   "name": "python",
   "nbconvert_exporter": "python",
   "pygments_lexer": "ipython3",
   "version": "3.9.12"
  }
 },
 "nbformat": 4,
 "nbformat_minor": 5
}
