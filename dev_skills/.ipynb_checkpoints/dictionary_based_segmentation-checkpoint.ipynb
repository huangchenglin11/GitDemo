{
 "cells": [
  {
   "cell_type": "code",
   "execution_count": 4,
   "id": "577c874d",
   "metadata": {},
   "outputs": [],
   "source": [
    "def forward_max_matching(vocab, sentence):\n",
    "    \"\"\"\n",
    "    基于正向最大匹配算法 (FMM) 的中文分词函数\n",
    "\n",
    "    参数：\n",
    "    vocab (list): 词典，包含了所有可能的词汇\n",
    "    sentence (str): 需要分词的句子\n",
    "\n",
    "    返回：\n",
    "    list: 分词结果的列表\n",
    "    \"\"\"\n",
    "    fmmresult = []  # 存储分词结果的列表\n",
    "    max_len = max([len(item) for item in vocab])  # 获取词典中最长词的长度\n",
    "    start = 0  # 分词的起始位置\n",
    "\n",
    "    # 开始遍历句子，直到处理完整个句子\n",
    "    while start != len(sentence):\n",
    "        index = start + max_len  # 尝试匹配最大长度的词\n",
    "        if index > len(sentence):  # 如果索引超出句子长度，修正为句子末尾\n",
    "            index = len(sentence)\n",
    "\n",
    "        # 从当前起始位置尝试从最大长度开始逐步缩小词的长度进行匹配\n",
    "        while index > start:\n",
    "            current_substr = sentence[start:index]  # 截取当前子串\n",
    "            # 如果子串在词典中，或者子串长度为1，则认为是一个有效词\n",
    "            if current_substr in vocab or len(current_substr) == 1:\n",
    "                fmmresult.append(current_substr)  # 将有效词加入结果列表\n",
    "                start = index  # 更新起始位置，跳过已处理的部分\n",
    "                break  # 找到一个有效词后跳出内层循环继续处理下一个子串\n",
    "            index -= 1  # 如果没有匹配到有效词，缩短子串长度再试\n",
    "\n",
    "    return fmmresult  # 返回最终的分词结果"
   ]
  },
  {
   "cell_type": "code",
   "execution_count": 2,
   "id": "c511ce28",
   "metadata": {},
   "outputs": [],
   "source": [
    "def forward_max_matching(vocab, sentence):\n",
    "    \"\"\"\n",
    "    基于正向最大匹配算法 (FMM) 的中文分词函数\n",
    "\n",
    "    参数：\n",
    "    vocab (list): 词典，包含了所有可能的词汇\n",
    "    sentence (str): 需要分词的句子\n",
    "\n",
    "    返回：\n",
    "    list: 分词结果的列表\n",
    "    \"\"\"\n",
    "    fmmresult = []  # 存储分词结果的列表\n",
    "    max_len = max([len(item) for item in vocab])  # 获取词典中最长词的长度\n",
    "    start = 0  # 分词的起始位置\n",
    "\n",
    "    # 开始遍历句子，直到处理完整个句子\n",
    "    while start != len(sentence):\n",
    "        index = start + max_len  # 尝试匹配最大长度的词\n",
    "        if index > len(sentence):  # 如果索引超出句子长度，修正为句子末尾\n",
    "            index = len(sentence)\n",
    "\n",
    "        # 从当前起始位置尝试从最大长度开始逐步缩小词的长度进行匹配\n",
    "        while index > start:\n",
    "            current_substr = sentence[start:index]  # 截取当前子串\n",
    "            # 如果子串在词典中，或者子串长度为1，则认为是一个有效词\n",
    "            if current_substr in vocab or len(current_substr) == 1:\n",
    "                fmmresult.append(current_substr)  # 将有效词加入结果列表\n",
    "                start = index  # 更新起始位置，跳过已处理的部分\n",
    "                break  # 找到一个有效词后跳出内层循环继续处理下一个子串\n",
    "            index -= 1  # 如果没有匹配到有效词，缩短子串长度再试\n",
    "\n",
    "    return fmmresult  # 返回最终的分词结果"
   ]
  },
  {
   "cell_type": "code",
   "execution_count": 19,
   "id": "e82b58c2",
   "metadata": {},
   "outputs": [
    {
     "ename": "NameError",
     "evalue": "name 'vocab' is not defined",
     "output_type": "error",
     "traceback": [
      "\u001b[1;31m---------------------------------------------------------------------------\u001b[0m",
      "\u001b[1;31mNameError\u001b[0m                                 Traceback (most recent call last)",
      "Input \u001b[1;32mIn [19]\u001b[0m, in \u001b[0;36m<cell line: 1>\u001b[1;34m()\u001b[0m\n\u001b[1;32m----> 1\u001b[0m fmm_result \u001b[38;5;241m=\u001b[39m forward_max_matching(\u001b[43mvocab\u001b[49m, sentence)\n\u001b[0;32m      2\u001b[0m rmm_result \u001b[38;5;241m=\u001b[39m reverse_directional_max_matching(vocab, sentence)\n\u001b[0;32m      3\u001b[0m \u001b[38;5;28mprint\u001b[39m(fmm_result)\n",
      "\u001b[1;31mNameError\u001b[0m: name 'vocab' is not defined"
     ]
    }
   ],
   "source": [
    "fmm_result = forward_max_matching(vocab, sentence)\n",
    "rmm_result = reverse_directional_max_matching(vocab, sentence)\n",
    "print(fmm_result)\n",
    "print(rmm_result)\n",
    "['我们', '是', '今天', '在', '野生动物园', '玩', '了']\n",
    "['我们', '是', '今天', '在', '野生动物园', '玩', '了']"
   ]
  },
  {
   "cell_type": "code",
   "execution_count": 20,
   "id": "d3048db3",
   "metadata": {},
   "outputs": [
    {
     "ename": "NameError",
     "evalue": "name 'bi_directional_matching' is not defined",
     "output_type": "error",
     "traceback": [
      "\u001b[1;31m---------------------------------------------------------------------------\u001b[0m",
      "\u001b[1;31mNameError\u001b[0m                                 Traceback (most recent call last)",
      "Input \u001b[1;32mIn [20]\u001b[0m, in \u001b[0;36m<cell line: 1>\u001b[1;34m()\u001b[0m\n\u001b[1;32m----> 1\u001b[0m bm_result \u001b[38;5;241m=\u001b[39m \u001b[43mbi_directional_matching\u001b[49m(vocab, sentence)\n\u001b[0;32m      2\u001b[0m \u001b[38;5;28mprint\u001b[39m(bm_result)\n\u001b[0;32m      3\u001b[0m [\u001b[38;5;124m'\u001b[39m\u001b[38;5;124m我们\u001b[39m\u001b[38;5;124m'\u001b[39m, \u001b[38;5;124m'\u001b[39m\u001b[38;5;124m是\u001b[39m\u001b[38;5;124m'\u001b[39m, \u001b[38;5;124m'\u001b[39m\u001b[38;5;124m今天\u001b[39m\u001b[38;5;124m'\u001b[39m, \u001b[38;5;124m'\u001b[39m\u001b[38;5;124m在\u001b[39m\u001b[38;5;124m'\u001b[39m, \u001b[38;5;124m'\u001b[39m\u001b[38;5;124m野生动物园\u001b[39m\u001b[38;5;124m'\u001b[39m, \u001b[38;5;124m'\u001b[39m\u001b[38;5;124m玩\u001b[39m\u001b[38;5;124m'\u001b[39m, \u001b[38;5;124m'\u001b[39m\u001b[38;5;124m了\u001b[39m\u001b[38;5;124m'\u001b[39m]\n",
      "\u001b[1;31mNameError\u001b[0m: name 'bi_directional_matching' is not defined"
     ]
    }
   ],
   "source": [
    "bm_result = bi_directional_matching(vocab, sentence)\n",
    "print(bm_result)\n",
    "['我们', '是', '今天', '在', '野生动物园', '玩', '了']"
   ]
  },
  {
   "cell_type": "code",
   "execution_count": null,
   "id": "3971aca6",
   "metadata": {},
   "outputs": [],
   "source": []
  },
  {
   "cell_type": "code",
   "execution_count": null,
   "id": "2b41a7bd",
   "metadata": {},
   "outputs": [],
   "source": []
  },
  {
   "cell_type": "code",
   "execution_count": null,
   "id": "6a49f8d4",
   "metadata": {},
   "outputs": [],
   "source": []
  },
  {
   "cell_type": "code",
   "execution_count": null,
   "id": "b3beb4ff",
   "metadata": {},
   "outputs": [],
   "source": []
  }
 ],
 "metadata": {
  "kernelspec": {
   "display_name": "Python 3 (ipykernel)",
   "language": "python",
   "name": "python3"
  },
  "language_info": {
   "codemirror_mode": {
    "name": "ipython",
    "version": 3
   },
   "file_extension": ".py",
   "mimetype": "text/x-python",
   "name": "python",
   "nbconvert_exporter": "python",
   "pygments_lexer": "ipython3",
   "version": "3.9.12"
  }
 },
 "nbformat": 4,
 "nbformat_minor": 5
}
